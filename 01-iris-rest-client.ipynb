{
 "cells": [
  {
   "cell_type": "code",
   "execution_count": 1,
   "metadata": {},
   "outputs": [
    {
     "name": "stdout",
     "output_type": "stream",
     "text": [
      "{'prediction': 1}\n"
     ]
    }
   ],
   "source": [
    "import pickle\n",
    "import requests, json\n",
    "#\n",
    "# Make a prediction by calling the REST API.\n",
    "#\n",
    "\n",
    "url = \"http://model-server-functions.apps.shared-na46.openshift.opentlc.com\"\n",
    "data = json.dumps({'sl':5.84,'sw':3.0, 'pl':3.75,'pw':1.1}) \n",
    "r = requests.post(url, data)\n",
    "\n",
    "print(r.json())"
   ]
  }
 ],
 "metadata": {
  "kernelspec": {
   "display_name": "Python 3",
   "language": "python",
   "name": "python3"
  },
  "language_info": {
   "codemirror_mode": {
    "name": "ipython",
    "version": 3
   },
   "file_extension": ".py",
   "mimetype": "text/x-python",
   "name": "python",
   "nbconvert_exporter": "python",
   "pygments_lexer": "ipython3",
   "version": "3.7.10"
  }
 },
 "nbformat": 4,
 "nbformat_minor": 4
}
